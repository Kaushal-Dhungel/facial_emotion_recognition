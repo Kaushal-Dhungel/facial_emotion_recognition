{
  "nbformat": 4,
  "nbformat_minor": 0,
  "metadata": {
    "colab": {
      "name": "fer2013.ipynb",
      "provenance": []
    },
    "kernelspec": {
      "name": "python3",
      "display_name": "Python 3"
    },
    "accelerator": "TPU"
  },
  "cells": [
    {
      "cell_type": "code",
      "metadata": {
        "id": "0tEeCxYtG341",
        "colab_type": "code",
        "outputId": "e38d2f4f-1612-46aa-ba91-7caaae2985f9",
        "colab": {
          "base_uri": "https://localhost:8080/",
          "height": 877
        }
      },
      "source": [
        "pip install tensorflow-gpu==2.0.0"
      ],
      "execution_count": 0,
      "outputs": [
        {
          "output_type": "stream",
          "text": [
            "Collecting tensorflow-gpu==2.0.0\n",
            "\u001b[?25l  Downloading https://files.pythonhosted.org/packages/25/44/47f0722aea081697143fbcf5d2aa60d1aee4aaacb5869aee2b568974777b/tensorflow_gpu-2.0.0-cp36-cp36m-manylinux2010_x86_64.whl (380.8MB)\n",
            "\u001b[K     |████████████████████████████████| 380.8MB 42kB/s \n",
            "\u001b[?25hRequirement already satisfied: protobuf>=3.6.1 in /usr/local/lib/python3.6/dist-packages (from tensorflow-gpu==2.0.0) (3.10.0)\n",
            "Requirement already satisfied: astor>=0.6.0 in /usr/local/lib/python3.6/dist-packages (from tensorflow-gpu==2.0.0) (0.8.1)\n",
            "Requirement already satisfied: keras-preprocessing>=1.0.5 in /usr/local/lib/python3.6/dist-packages (from tensorflow-gpu==2.0.0) (1.1.0)\n",
            "Requirement already satisfied: numpy<2.0,>=1.16.0 in /usr/local/lib/python3.6/dist-packages (from tensorflow-gpu==2.0.0) (1.17.5)\n",
            "Requirement already satisfied: wheel>=0.26 in /usr/local/lib/python3.6/dist-packages (from tensorflow-gpu==2.0.0) (0.34.2)\n",
            "Requirement already satisfied: google-pasta>=0.1.6 in /usr/local/lib/python3.6/dist-packages (from tensorflow-gpu==2.0.0) (0.1.8)\n",
            "Requirement already satisfied: wrapt>=1.11.1 in /usr/local/lib/python3.6/dist-packages (from tensorflow-gpu==2.0.0) (1.11.2)\n",
            "Requirement already satisfied: absl-py>=0.7.0 in /usr/local/lib/python3.6/dist-packages (from tensorflow-gpu==2.0.0) (0.9.0)\n",
            "Collecting tensorboard<2.1.0,>=2.0.0\n",
            "\u001b[?25l  Downloading https://files.pythonhosted.org/packages/76/54/99b9d5d52d5cb732f099baaaf7740403e83fe6b0cedde940fabd2b13d75a/tensorboard-2.0.2-py3-none-any.whl (3.8MB)\n",
            "\u001b[K     |████████████████████████████████| 3.8MB 49.2MB/s \n",
            "\u001b[?25hRequirement already satisfied: grpcio>=1.8.6 in /usr/local/lib/python3.6/dist-packages (from tensorflow-gpu==2.0.0) (1.27.1)\n",
            "Requirement already satisfied: keras-applications>=1.0.8 in /usr/local/lib/python3.6/dist-packages (from tensorflow-gpu==2.0.0) (1.0.8)\n",
            "Requirement already satisfied: gast==0.2.2 in /usr/local/lib/python3.6/dist-packages (from tensorflow-gpu==2.0.0) (0.2.2)\n",
            "Requirement already satisfied: opt-einsum>=2.3.2 in /usr/local/lib/python3.6/dist-packages (from tensorflow-gpu==2.0.0) (3.1.0)\n",
            "Requirement already satisfied: six>=1.10.0 in /usr/local/lib/python3.6/dist-packages (from tensorflow-gpu==2.0.0) (1.12.0)\n",
            "Collecting tensorflow-estimator<2.1.0,>=2.0.0\n",
            "\u001b[?25l  Downloading https://files.pythonhosted.org/packages/fc/08/8b927337b7019c374719145d1dceba21a8bb909b93b1ad6f8fb7d22c1ca1/tensorflow_estimator-2.0.1-py2.py3-none-any.whl (449kB)\n",
            "\u001b[K     |████████████████████████████████| 450kB 53.2MB/s \n",
            "\u001b[?25hRequirement already satisfied: termcolor>=1.1.0 in /usr/local/lib/python3.6/dist-packages (from tensorflow-gpu==2.0.0) (1.1.0)\n",
            "Requirement already satisfied: setuptools in /usr/local/lib/python3.6/dist-packages (from protobuf>=3.6.1->tensorflow-gpu==2.0.0) (45.2.0)\n",
            "Requirement already satisfied: google-auth<2,>=1.6.3 in /usr/local/lib/python3.6/dist-packages (from tensorboard<2.1.0,>=2.0.0->tensorflow-gpu==2.0.0) (1.7.2)\n",
            "Requirement already satisfied: markdown>=2.6.8 in /usr/local/lib/python3.6/dist-packages (from tensorboard<2.1.0,>=2.0.0->tensorflow-gpu==2.0.0) (3.2.1)\n",
            "Requirement already satisfied: requests<3,>=2.21.0 in /usr/local/lib/python3.6/dist-packages (from tensorboard<2.1.0,>=2.0.0->tensorflow-gpu==2.0.0) (2.21.0)\n",
            "Requirement already satisfied: werkzeug>=0.11.15 in /usr/local/lib/python3.6/dist-packages (from tensorboard<2.1.0,>=2.0.0->tensorflow-gpu==2.0.0) (1.0.0)\n",
            "Requirement already satisfied: google-auth-oauthlib<0.5,>=0.4.1 in /usr/local/lib/python3.6/dist-packages (from tensorboard<2.1.0,>=2.0.0->tensorflow-gpu==2.0.0) (0.4.1)\n",
            "Requirement already satisfied: h5py in /usr/local/lib/python3.6/dist-packages (from keras-applications>=1.0.8->tensorflow-gpu==2.0.0) (2.8.0)\n",
            "Requirement already satisfied: rsa<4.1,>=3.1.4 in /usr/local/lib/python3.6/dist-packages (from google-auth<2,>=1.6.3->tensorboard<2.1.0,>=2.0.0->tensorflow-gpu==2.0.0) (4.0)\n",
            "Requirement already satisfied: cachetools<3.2,>=2.0.0 in /usr/local/lib/python3.6/dist-packages (from google-auth<2,>=1.6.3->tensorboard<2.1.0,>=2.0.0->tensorflow-gpu==2.0.0) (3.1.1)\n",
            "Requirement already satisfied: pyasn1-modules>=0.2.1 in /usr/local/lib/python3.6/dist-packages (from google-auth<2,>=1.6.3->tensorboard<2.1.0,>=2.0.0->tensorflow-gpu==2.0.0) (0.2.8)\n",
            "Requirement already satisfied: certifi>=2017.4.17 in /usr/local/lib/python3.6/dist-packages (from requests<3,>=2.21.0->tensorboard<2.1.0,>=2.0.0->tensorflow-gpu==2.0.0) (2019.11.28)\n",
            "Requirement already satisfied: urllib3<1.25,>=1.21.1 in /usr/local/lib/python3.6/dist-packages (from requests<3,>=2.21.0->tensorboard<2.1.0,>=2.0.0->tensorflow-gpu==2.0.0) (1.24.3)\n",
            "Requirement already satisfied: chardet<3.1.0,>=3.0.2 in /usr/local/lib/python3.6/dist-packages (from requests<3,>=2.21.0->tensorboard<2.1.0,>=2.0.0->tensorflow-gpu==2.0.0) (3.0.4)\n",
            "Requirement already satisfied: idna<2.9,>=2.5 in /usr/local/lib/python3.6/dist-packages (from requests<3,>=2.21.0->tensorboard<2.1.0,>=2.0.0->tensorflow-gpu==2.0.0) (2.8)\n",
            "Requirement already satisfied: requests-oauthlib>=0.7.0 in /usr/local/lib/python3.6/dist-packages (from google-auth-oauthlib<0.5,>=0.4.1->tensorboard<2.1.0,>=2.0.0->tensorflow-gpu==2.0.0) (1.3.0)\n",
            "Requirement already satisfied: pyasn1>=0.1.3 in /usr/local/lib/python3.6/dist-packages (from rsa<4.1,>=3.1.4->google-auth<2,>=1.6.3->tensorboard<2.1.0,>=2.0.0->tensorflow-gpu==2.0.0) (0.4.8)\n",
            "Requirement already satisfied: oauthlib>=3.0.0 in /usr/local/lib/python3.6/dist-packages (from requests-oauthlib>=0.7.0->google-auth-oauthlib<0.5,>=0.4.1->tensorboard<2.1.0,>=2.0.0->tensorflow-gpu==2.0.0) (3.1.0)\n",
            "\u001b[31mERROR: tensorflow 1.15.0 has requirement tensorboard<1.16.0,>=1.15.0, but you'll have tensorboard 2.0.2 which is incompatible.\u001b[0m\n",
            "\u001b[31mERROR: tensorflow 1.15.0 has requirement tensorflow-estimator==1.15.1, but you'll have tensorflow-estimator 2.0.1 which is incompatible.\u001b[0m\n",
            "Installing collected packages: tensorboard, tensorflow-estimator, tensorflow-gpu\n",
            "  Found existing installation: tensorboard 1.15.0\n",
            "    Uninstalling tensorboard-1.15.0:\n",
            "      Successfully uninstalled tensorboard-1.15.0\n",
            "  Found existing installation: tensorflow-estimator 1.15.1\n",
            "    Uninstalling tensorflow-estimator-1.15.1:\n",
            "      Successfully uninstalled tensorflow-estimator-1.15.1\n",
            "Successfully installed tensorboard-2.0.2 tensorflow-estimator-2.0.1 tensorflow-gpu-2.0.0\n"
          ],
          "name": "stdout"
        }
      ]
    },
    {
      "cell_type": "code",
      "metadata": {
        "id": "WaHdsCFtHJ8R",
        "colab_type": "code",
        "colab": {}
      },
      "source": [
        "import tensorflow as tf\n",
        "from tensorflow import keras\n",
        "from tensorflow.keras import Sequential\n",
        "from tensorflow.keras.layers import Flatten, Dense, Conv2D, MaxPool2D, Dropout, BatchNormalization\n",
        "from tensorflow.keras.optimizers import Adam\n",
        "from tensorflow.keras.layers import Input\n",
        "from tensorflow.keras.models import Model\n"
      ],
      "execution_count": 0,
      "outputs": []
    },
    {
      "cell_type": "code",
      "metadata": {
        "id": "DDGb4Da0JXgj",
        "colab_type": "code",
        "colab": {}
      },
      "source": [
        "import numpy as np\n",
        "import pandas as pd\n",
        "import matplotlib.pyplot as plt\n",
        "# from sklearn.preprocessing import StandardScaler\n",
        "from sklearn.model_selection import train_test_split"
      ],
      "execution_count": 0,
      "outputs": []
    },
    {
      "cell_type": "code",
      "metadata": {
        "id": "WZiudp61QIvD",
        "colab_type": "code",
        "outputId": "4ad65ede-2139-4a01-9de5-c50f2100062a",
        "colab": {
          "base_uri": "https://localhost:8080/",
          "height": 34
        }
      },
      "source": [
        "from google.colab import drive\n",
        "drive.mount('/content/drive')"
      ],
      "execution_count": 0,
      "outputs": [
        {
          "output_type": "stream",
          "text": [
            "Drive already mounted at /content/drive; to attempt to forcibly remount, call drive.mount(\"/content/drive\", force_remount=True).\n"
          ],
          "name": "stdout"
        }
      ]
    },
    {
      "cell_type": "code",
      "metadata": {
        "id": "NyaIWEUlRUFl",
        "colab_type": "code",
        "colab": {}
      },
      "source": [
        "path = '/content/drive/My Drive/fer2013_data/fer2013.csv'\n",
        "df = pd.read_csv(path)"
      ],
      "execution_count": 0,
      "outputs": []
    },
    {
      "cell_type": "code",
      "metadata": {
        "id": "nW--QJZ_SReg",
        "colab_type": "code",
        "outputId": "a89d549e-1365-444b-8f27-24a27b54e72e",
        "colab": {
          "base_uri": "https://localhost:8080/",
          "height": 195
        }
      },
      "source": [
        "df.head()"
      ],
      "execution_count": 0,
      "outputs": [
        {
          "output_type": "execute_result",
          "data": {
            "text/html": [
              "<div>\n",
              "<style scoped>\n",
              "    .dataframe tbody tr th:only-of-type {\n",
              "        vertical-align: middle;\n",
              "    }\n",
              "\n",
              "    .dataframe tbody tr th {\n",
              "        vertical-align: top;\n",
              "    }\n",
              "\n",
              "    .dataframe thead th {\n",
              "        text-align: right;\n",
              "    }\n",
              "</style>\n",
              "<table border=\"1\" class=\"dataframe\">\n",
              "  <thead>\n",
              "    <tr style=\"text-align: right;\">\n",
              "      <th></th>\n",
              "      <th>emotion</th>\n",
              "      <th>pixels</th>\n",
              "      <th>Usage</th>\n",
              "    </tr>\n",
              "  </thead>\n",
              "  <tbody>\n",
              "    <tr>\n",
              "      <th>0</th>\n",
              "      <td>0</td>\n",
              "      <td>70 80 82 72 58 58 60 63 54 58 60 48 89 115 121...</td>\n",
              "      <td>Training</td>\n",
              "    </tr>\n",
              "    <tr>\n",
              "      <th>1</th>\n",
              "      <td>0</td>\n",
              "      <td>151 150 147 155 148 133 111 140 170 174 182 15...</td>\n",
              "      <td>Training</td>\n",
              "    </tr>\n",
              "    <tr>\n",
              "      <th>2</th>\n",
              "      <td>2</td>\n",
              "      <td>231 212 156 164 174 138 161 173 182 200 106 38...</td>\n",
              "      <td>Training</td>\n",
              "    </tr>\n",
              "    <tr>\n",
              "      <th>3</th>\n",
              "      <td>4</td>\n",
              "      <td>24 32 36 30 32 23 19 20 30 41 21 22 32 34 21 1...</td>\n",
              "      <td>Training</td>\n",
              "    </tr>\n",
              "    <tr>\n",
              "      <th>4</th>\n",
              "      <td>6</td>\n",
              "      <td>4 0 0 0 0 0 0 0 0 0 0 0 3 15 23 28 48 50 58 84...</td>\n",
              "      <td>Training</td>\n",
              "    </tr>\n",
              "  </tbody>\n",
              "</table>\n",
              "</div>"
            ],
            "text/plain": [
              "   emotion                                             pixels     Usage\n",
              "0        0  70 80 82 72 58 58 60 63 54 58 60 48 89 115 121...  Training\n",
              "1        0  151 150 147 155 148 133 111 140 170 174 182 15...  Training\n",
              "2        2  231 212 156 164 174 138 161 173 182 200 106 38...  Training\n",
              "3        4  24 32 36 30 32 23 19 20 30 41 21 22 32 34 21 1...  Training\n",
              "4        6  4 0 0 0 0 0 0 0 0 0 0 0 3 15 23 28 48 50 58 84...  Training"
            ]
          },
          "metadata": {
            "tags": []
          },
          "execution_count": 6
        }
      ]
    },
    {
      "cell_type": "code",
      "metadata": {
        "id": "-4bjrl5BSV0X",
        "colab_type": "code",
        "outputId": "be4827dc-1410-4e1a-b950-4468102bae5f",
        "colab": {
          "base_uri": "https://localhost:8080/",
          "height": 50
        }
      },
      "source": [
        "print(df['pixels'].head(1))"
      ],
      "execution_count": 0,
      "outputs": [
        {
          "output_type": "stream",
          "text": [
            "0    70 80 82 72 58 58 60 63 54 58 60 48 89 115 121...\n",
            "Name: pixels, dtype: object\n"
          ],
          "name": "stdout"
        }
      ]
    },
    {
      "cell_type": "code",
      "metadata": {
        "id": "FAYYylagU2Y7",
        "colab_type": "code",
        "outputId": "e7da61bb-1be5-4675-a219-e68d2ab0067a",
        "colab": {
          "base_uri": "https://localhost:8080/",
          "height": 84
        }
      },
      "source": [
        "df['Usage'].value_counts()"
      ],
      "execution_count": 0,
      "outputs": [
        {
          "output_type": "execute_result",
          "data": {
            "text/plain": [
              "Training       28709\n",
              "PublicTest      3589\n",
              "PrivateTest     3589\n",
              "Name: Usage, dtype: int64"
            ]
          },
          "metadata": {
            "tags": []
          },
          "execution_count": 8
        }
      ]
    },
    {
      "cell_type": "code",
      "metadata": {
        "id": "rAqxgu9GSb7F",
        "colab_type": "code",
        "outputId": "51929249-63a0-4277-a497-365272248283",
        "colab": {
          "base_uri": "https://localhost:8080/",
          "height": 151
        }
      },
      "source": [
        "df.info()"
      ],
      "execution_count": 0,
      "outputs": [
        {
          "output_type": "stream",
          "text": [
            "<class 'pandas.core.frame.DataFrame'>\n",
            "RangeIndex: 35887 entries, 0 to 35886\n",
            "Data columns (total 3 columns):\n",
            "emotion    35887 non-null int64\n",
            "pixels     35887 non-null object\n",
            "Usage      35887 non-null object\n",
            "dtypes: int64(1), object(2)\n",
            "memory usage: 841.2+ KB\n"
          ],
          "name": "stdout"
        }
      ]
    },
    {
      "cell_type": "code",
      "metadata": {
        "id": "vAuGqtS0VLif",
        "colab_type": "code",
        "colab": {}
      },
      "source": [
        "x_train, y_train, x_test, y_test = [],[],[],[]"
      ],
      "execution_count": 0,
      "outputs": []
    },
    {
      "cell_type": "code",
      "metadata": {
        "id": "mc1VEdP7SfFt",
        "colab_type": "code",
        "colab": {}
      },
      "source": [
        "for index, row in df.iterrows():\n",
        "  val = row['pixels'].split(\" \")  #pixels are separated by space so split garera val ma rakhne\n",
        "  if 'Training' in row['Usage']:  # yadi 'Training' vayema\n",
        "    x_train.append(np.array(val,'float32')) # val lai np array banayera store garne x_train ma\n",
        "    y_train.append(row['emotion'])  # ani lables i.e 'emotion' lai store garne\n",
        "\n",
        "  elif 'PublicTest' in row['Usage']:\n",
        "    x_test.append(np.array(val,'float32'))\n",
        "    y_test.append(row['emotion'])"
      ],
      "execution_count": 0,
      "outputs": []
    },
    {
      "cell_type": "code",
      "metadata": {
        "id": "2nEawds9XNzx",
        "colab_type": "code",
        "outputId": "31273a65-6a1d-4a97-c322-40e9dce027bf",
        "colab": {
          "base_uri": "https://localhost:8080/",
          "height": 34
        }
      },
      "source": [
        "len(x_train), len(y_train)"
      ],
      "execution_count": 0,
      "outputs": [
        {
          "output_type": "execute_result",
          "data": {
            "text/plain": [
              "(28709, 28709)"
            ]
          },
          "metadata": {
            "tags": []
          },
          "execution_count": 12
        }
      ]
    },
    {
      "cell_type": "code",
      "metadata": {
        "id": "1ZRSgjvKXU1D",
        "colab_type": "code",
        "outputId": "935a1a30-bfd3-4ead-b66e-cd59b39a5f8b",
        "colab": {
          "base_uri": "https://localhost:8080/",
          "height": 34
        }
      },
      "source": [
        "x_train[1]"
      ],
      "execution_count": 0,
      "outputs": [
        {
          "output_type": "execute_result",
          "data": {
            "text/plain": [
              "array([151., 150., 147., ..., 193., 183., 184.], dtype=float32)"
            ]
          },
          "metadata": {
            "tags": []
          },
          "execution_count": 13
        }
      ]
    },
    {
      "cell_type": "code",
      "metadata": {
        "id": "wUmeE0jpXbme",
        "colab_type": "code",
        "outputId": "9d2fe14d-cdb8-4245-fe0c-719471dec8fa",
        "colab": {
          "base_uri": "https://localhost:8080/",
          "height": 50
        }
      },
      "source": [
        "x_train[0:2]"
      ],
      "execution_count": 0,
      "outputs": [
        {
          "output_type": "execute_result",
          "data": {
            "text/plain": [
              "[array([ 70.,  80.,  82., ..., 106., 109.,  82.], dtype=float32),\n",
              " array([151., 150., 147., ..., 193., 183., 184.], dtype=float32)]"
            ]
          },
          "metadata": {
            "tags": []
          },
          "execution_count": 14
        }
      ]
    },
    {
      "cell_type": "code",
      "metadata": {
        "id": "MAbQM9kcXpe3",
        "colab_type": "code",
        "colab": {}
      },
      "source": [
        "x_train = np.array(x_train)\n",
        "y_train = np.array(y_train)\n",
        "x_test = np.array(x_test)\n",
        "y_test = np.array(y_test)"
      ],
      "execution_count": 0,
      "outputs": []
    },
    {
      "cell_type": "code",
      "metadata": {
        "id": "HGgC00rdboJm",
        "colab_type": "code",
        "colab": {}
      },
      "source": [
        "x_train -= np.mean(x_train,axis = 0) \n",
        "x_train /= np.std(x_train,axis = 0)\n",
        "\n",
        "x_test -= np.mean(x_test,axis = 0) \n",
        "x_test /= np.std(x_test,axis = 0)\n",
        "\n"
      ],
      "execution_count": 0,
      "outputs": []
    },
    {
      "cell_type": "code",
      "metadata": {
        "id": "9WG9oIlfd2BD",
        "colab_type": "code",
        "outputId": "ca9a43bb-f3a9-4c75-8dd9-51e04e3b5ace",
        "colab": {
          "base_uri": "https://localhost:8080/",
          "height": 50
        }
      },
      "source": [
        "x_train[0]"
      ],
      "execution_count": 0,
      "outputs": [
        {
          "output_type": "execute_result",
          "data": {
            "text/plain": [
              "array([-0.6098866 , -0.4592209 , -0.40325198, ..., -0.08629682,\n",
              "       -0.0573744 , -0.41127437], dtype=float32)"
            ]
          },
          "metadata": {
            "tags": []
          },
          "execution_count": 17
        }
      ]
    },
    {
      "cell_type": "code",
      "metadata": {
        "id": "G1Zm9MkHeZpv",
        "colab_type": "code",
        "outputId": "11e60bce-b183-45c0-fe9d-0a3cb44aad51",
        "colab": {
          "base_uri": "https://localhost:8080/",
          "height": 235
        }
      },
      "source": [
        "x_test"
      ],
      "execution_count": 0,
      "outputs": [
        {
          "output_type": "execute_result",
          "data": {
            "text/plain": [
              "array([[ 1.6505896 ,  1.7122597 ,  1.774942  , ..., -0.9225547 ,\n",
              "         0.18117245,  0.80417955],\n",
              "       [ 0.45219082,  0.84190166,  1.0658671 , ...,  0.73589116,\n",
              "         0.6640275 ,  0.5656745 ],\n",
              "       [-0.6116937 ,  0.02127829, -0.6688345 , ..., -0.33572   ,\n",
              "        -0.35250947, -0.32558146],\n",
              "       ...,\n",
              "       [ 1.6628181 ,  1.7246933 ,  1.7876041 , ..., -0.84601104,\n",
              "        -0.8226578 , -0.87790906],\n",
              "       [-1.0519217 , -1.1350546 , -1.0486962 , ..., -1.4073311 ,\n",
              "        -1.3944598 , -1.4051309 ],\n",
              "       [-0.7095221 , -0.66257447, -0.6941586 , ..., -0.01678811,\n",
              "         0.6386141 ,  0.80417955]], dtype=float32)"
            ]
          },
          "metadata": {
            "tags": []
          },
          "execution_count": 18
        }
      ]
    },
    {
      "cell_type": "code",
      "metadata": {
        "id": "yY9Lle62edf6",
        "colab_type": "code",
        "outputId": "6b464a14-9c16-4cc1-80ab-335d2403a442",
        "colab": {
          "base_uri": "https://localhost:8080/",
          "height": 34
        }
      },
      "source": [
        "x_train.shape"
      ],
      "execution_count": 0,
      "outputs": [
        {
          "output_type": "execute_result",
          "data": {
            "text/plain": [
              "(28709, 2304)"
            ]
          },
          "metadata": {
            "tags": []
          },
          "execution_count": 19
        }
      ]
    },
    {
      "cell_type": "code",
      "metadata": {
        "id": "2i45oIrReymH",
        "colab_type": "code",
        "outputId": "0407453e-891f-4563-de4e-71ef433d0a52",
        "colab": {
          "base_uri": "https://localhost:8080/",
          "height": 34
        }
      },
      "source": [
        "x_train[0].shape[0]"
      ],
      "execution_count": 0,
      "outputs": [
        {
          "output_type": "execute_result",
          "data": {
            "text/plain": [
              "2304"
            ]
          },
          "metadata": {
            "tags": []
          },
          "execution_count": 121
        }
      ]
    },
    {
      "cell_type": "code",
      "metadata": {
        "id": "L-ZM9t7cfZm_",
        "colab_type": "code",
        "outputId": "8b70fd63-274f-4a17-a0b2-b086a6085d3e",
        "colab": {
          "base_uri": "https://localhost:8080/",
          "height": 34
        }
      },
      "source": [
        "48*48"
      ],
      "execution_count": 0,
      "outputs": [
        {
          "output_type": "execute_result",
          "data": {
            "text/plain": [
              "2304"
            ]
          },
          "metadata": {
            "tags": []
          },
          "execution_count": 122
        }
      ]
    },
    {
      "cell_type": "code",
      "metadata": {
        "id": "DLZlclcfe2Sw",
        "colab_type": "code",
        "colab": {}
      },
      "source": [
        "x_train = x_train.reshape(x_train.shape[0],48,48,1) # 48*48 = 2304 , reshape gareko 48/48 dim\n",
        "x_test = x_test.reshape(x_test.shape[0],48,48,1)"
      ],
      "execution_count": 0,
      "outputs": []
    },
    {
      "cell_type": "code",
      "metadata": {
        "id": "bPy3HnFBf7LO",
        "colab_type": "code",
        "outputId": "92340b6e-2745-4144-facb-2966b73897f0",
        "colab": {
          "base_uri": "https://localhost:8080/",
          "height": 34
        }
      },
      "source": [
        "x_train.shape"
      ],
      "execution_count": 0,
      "outputs": [
        {
          "output_type": "execute_result",
          "data": {
            "text/plain": [
              "(28709, 48, 48, 1)"
            ]
          },
          "metadata": {
            "tags": []
          },
          "execution_count": 124
        }
      ]
    },
    {
      "cell_type": "code",
      "metadata": {
        "id": "lwyBNkpcgGj2",
        "colab_type": "code",
        "outputId": "e5379396-22d5-4f0d-d896-c2bb6b84a59e",
        "colab": {
          "base_uri": "https://localhost:8080/",
          "height": 34
        }
      },
      "source": [
        "x_test.shape"
      ],
      "execution_count": 0,
      "outputs": [
        {
          "output_type": "execute_result",
          "data": {
            "text/plain": [
              "(3589, 48, 48, 1)"
            ]
          },
          "metadata": {
            "tags": []
          },
          "execution_count": 125
        }
      ]
    },
    {
      "cell_type": "code",
      "metadata": {
        "id": "HefUCwkPhdjP",
        "colab_type": "code",
        "outputId": "722cfe0e-3816-4641-d5a6-fca7ab330dbf",
        "colab": {
          "base_uri": "https://localhost:8080/",
          "height": 34
        }
      },
      "source": [
        "from keras.regularizers import l2\n",
        "from tensorflow.keras.layers import MaxPooling2D"
      ],
      "execution_count": 0,
      "outputs": [
        {
          "output_type": "stream",
          "text": [
            "Using TensorFlow backend.\n"
          ],
          "name": "stderr"
        }
      ]
    },
    {
      "cell_type": "markdown",
      "metadata": {
        "id": "D7h5eWVrhvRU",
        "colab_type": "text"
      },
      "source": [
        "this model is inspired from https://www.freecodecamp.org/news/facial-emotion-recognition-develop-a-c-n-n-and-break-into-kaggle-top-10-f618c024faa7/ blog. This model took hell lot of time so I am not training with this model."
      ]
    },
    {
      "cell_type": "code",
      "metadata": {
        "id": "gLgNhtt7gIno",
        "colab_type": "code",
        "colab": {}
      },
      "source": [
        "# model = Sequential()\n",
        "\n",
        "# model.add(Conv2D(64, (3, 3), activation='relu', input_shape=(48, 48, 1), kernel_regularizer=l2(0.01)))\n",
        "# model.add(Conv2D(64, (3, 3), padding='same',activation='relu'))\n",
        "# model.add(BatchNormalization())\n",
        "# model.add(MaxPooling2D(pool_size=(2,2), strides=(2, 2)))\n",
        "# model.add(Dropout(0.5))  \n",
        "\n",
        "# # model.add(Conv2D(128, (3, 3), padding='same', activation='relu'))\n",
        "# # model.add(BatchNormalization())\n",
        "\n",
        "# # model.add(Conv2D(128, (3, 3), padding='same', activation='relu'))\n",
        "# # model.add(BatchNormalization())\n",
        "\n",
        "# model.add(Conv2D(128, (3, 3), padding='same', activation='relu'))\n",
        "# model.add(BatchNormalization())\n",
        "# model.add(MaxPooling2D(pool_size=(2,2)))\n",
        "# model.add(Dropout(0.5)) \n",
        "\n",
        "# # model.add(Conv2D(256, (3, 3), padding='same', activation='relu'))\n",
        "# # model.add(BatchNormalization())\n",
        "\n",
        "# model.add(Conv2D(256, (3, 3), padding='same', activation='relu'))\n",
        "# model.add(BatchNormalization())\n",
        "\n",
        "# model.add(Conv2D(256, (3, 3), padding='same', activation='relu'))\n",
        "# model.add(BatchNormalization())\n",
        "# model.add(MaxPooling2D(pool_size=(2,2)))\n",
        "# model.add(Dropout(0.5))  \n",
        "\n",
        "# # model.add(Conv2D(512, (3, 3), padding='same', activation='relu'))\n",
        "# # model.add(BatchNormalization())\n",
        "# # model.add(Conv2D(512, (3, 3), padding='same', activation='relu'))\n",
        "# # model.add(BatchNormalization())\n",
        "\n",
        "# model.add(Conv2D(512, (3, 3), padding='same', activation='relu'))\n",
        "# model.add(BatchNormalization())\n",
        "# model.add(MaxPooling2D(pool_size=(2,2)))\n",
        "# model.add(Dropout(0.5))  \n",
        "\n",
        "# model.add(Flatten())\n",
        "# model.add(Dense(512, activation='relu'))\n",
        "# model.add(Dropout(0.5))\n",
        "\n",
        "# model.add(Dense(256, activation='relu'))\n",
        "# model.add(Dropout(0.5))\n",
        "\n",
        "# model.add(Dense(128, activation='relu'))\n",
        "# model.add(Dropout(0.5))\n",
        "\n",
        "# model.add(Dense(64, activation='relu'))\n",
        "# model.add(Dropout(0.5))\n",
        "\n",
        "# model.add(Dense(7, activation='softmax'))"
      ],
      "execution_count": 0,
      "outputs": []
    },
    {
      "cell_type": "markdown",
      "metadata": {
        "id": "Z-iMj5vd7apU",
        "colab_type": "text"
      },
      "source": [
        "I have commented those out coz it took a hell lot of time to train. I will use the next model"
      ]
    },
    {
      "cell_type": "code",
      "metadata": {
        "id": "dAPDpHf7djMn",
        "colab_type": "code",
        "colab": {}
      },
      "source": [
        "model = Sequential()\n",
        "model.add(Conv2D(64, (3, 3), activation='relu', input_shape=(48, 48, 1), kernel_regularizer=l2(0.01)))\n",
        "model.add(Conv2D(64, (3, 3), padding='same',activation='relu'))\n",
        "model.add(BatchNormalization())\n",
        "model.add(MaxPooling2D(pool_size=(2,2), strides=(2, 2)))\n",
        "model.add(Dropout(0.3)) \n",
        "\n",
        "model.add(Conv2D(128, (3, 3), padding='same', activation='relu'))\n",
        "model.add(BatchNormalization())\n",
        "model.add(MaxPooling2D(pool_size=(2,2)))\n",
        "model.add(Dropout(0.3)) \n",
        "\n",
        "model.add(Conv2D(256, (3, 3), padding='same', activation='relu'))\n",
        "model.add(BatchNormalization())\n",
        "model.add(MaxPooling2D(pool_size=(2,2)))\n",
        "model.add(Dropout(0.5))\n",
        "\n",
        "model.add(Conv2D(512, (3, 3), padding='same', activation='relu'))\n",
        "model.add(BatchNormalization())\n",
        "model.add(MaxPooling2D(pool_size=(2,2)))\n",
        "model.add(Dropout(0.5))  \n",
        "\n",
        "model.add(Flatten())\n",
        "model.add(Dense(512, activation='relu'))\n",
        "model.add(Dropout(0.5))\n",
        "\n",
        "model.add(Dense(256, activation='relu'))\n",
        "model.add(Dropout(0.3))\n",
        "\n",
        "model.add(Dense(128, activation='relu'))\n",
        "model.add(Dropout(0.2))\n",
        "\n",
        "model.add(Dense(64, activation='relu'))\n",
        "# model.add(Dropout(0.5))\n",
        "\n",
        "model.add(Dense(7, activation='softmax'))"
      ],
      "execution_count": 0,
      "outputs": []
    },
    {
      "cell_type": "code",
      "metadata": {
        "id": "XxqVcN4JhIAN",
        "colab_type": "code",
        "colab": {}
      },
      "source": [
        "model.compile(optimizer='adam',loss='categorical_crossentropy',metrics=['accuracy'])"
      ],
      "execution_count": 0,
      "outputs": []
    },
    {
      "cell_type": "code",
      "metadata": {
        "id": "Qp8NuVV7jOK-",
        "colab_type": "code",
        "colab": {}
      },
      "source": [
        "from keras.callbacks import ReduceLROnPlateau, EarlyStopping, TensorBoard, ModelCheckpoint"
      ],
      "execution_count": 0,
      "outputs": []
    },
    {
      "cell_type": "code",
      "metadata": {
        "id": "nauTpRoIiJxi",
        "colab_type": "code",
        "colab": {}
      },
      "source": [
        "lr_reducer = ReduceLROnPlateau(monitor='val_loss', factor=0.9, patience=3)\n",
        "early_stopper = EarlyStopping(monitor='val_acc', min_delta=0, patience=6, mode='auto')\n",
        "checkpointer = ModelCheckpoint('/content/gdrive/My Drive/fer2013_data/weights.hd5', monitor='val_loss', verbose=1, save_best_only=True)"
      ],
      "execution_count": 0,
      "outputs": []
    },
    {
      "cell_type": "markdown",
      "metadata": {
        "id": "IpF58jCqx0B7",
        "colab_type": "text"
      },
      "source": [
        "1. ReduceLROnPlateau => Training a neural network can plateau at times and we stop seeing any progress during this stage. Therefore, this function monitors the validation loss for signs of a plateau and then alter the learning rate by the specified factor if a plateau is detected.\n",
        "\n",
        "2. EarlyStopping => At times, the progress stalls while training a neural network and we stop seeing any improvement in the validation accuracy. This function waits for a specified number of epochs and terminates the training if no change in the parameter is found.\n",
        "\n",
        "3. ModelCheckpoint => It saves your model after every epoch. In case your training stops you can load the checkpoint and resume the process.\n"
      ]
    },
    {
      "cell_type": "markdown",
      "metadata": {
        "id": "IWlvfYzq56UJ",
        "colab_type": "text"
      },
      "source": [
        "In our case, it seems like ModelCheckpoint is bringing error:-\n",
        "AttributeError: module 'tensorflow' has no attribute 'get_default_session'. I guessed it because the error occured after the completion of 'one' epoch and ModelCheckpoint saves model after one epoch. So I am removing this. It is removed from 'callback' tuple of model.fit and can be added inside the bracket if necessary.\n",
        "\n",
        "So again I tried implementing the training without using ModelCheckpoint but the error still occured after one epoch so I am removing whole callback parameter from the model.fit."
      ]
    },
    {
      "cell_type": "code",
      "metadata": {
        "id": "cdb9Q3Ielkvr",
        "colab_type": "code",
        "colab": {}
      },
      "source": [
        "from keras.utils import to_categorical"
      ],
      "execution_count": 0,
      "outputs": []
    },
    {
      "cell_type": "code",
      "metadata": {
        "id": "i25BkZGXl8_Y",
        "colab_type": "code",
        "colab": {}
      },
      "source": [
        "y_train = to_categorical(y_train,num_classes= 7)\n",
        "y_test = to_categorical(y_test,num_classes= 7)\n"
      ],
      "execution_count": 0,
      "outputs": []
    },
    {
      "cell_type": "code",
      "metadata": {
        "id": "ei6xfpWunazI",
        "colab_type": "code",
        "outputId": "96d452f9-29d6-47bf-d254-60b766375602",
        "colab": {
          "base_uri": "https://localhost:8080/",
          "height": 34
        }
      },
      "source": [
        "x_train.shape,y_train.shape"
      ],
      "execution_count": 0,
      "outputs": [
        {
          "output_type": "execute_result",
          "data": {
            "text/plain": [
              "((28709, 48, 48, 1), (28709, 7))"
            ]
          },
          "metadata": {
            "tags": []
          },
          "execution_count": 28
        }
      ]
    },
    {
      "cell_type": "code",
      "metadata": {
        "id": "hVKlyRTyooBH",
        "colab_type": "code",
        "outputId": "6ec2c799-46d6-45ac-ec67-3c8a130e3e52",
        "colab": {
          "base_uri": "https://localhost:8080/",
          "height": 34
        }
      },
      "source": [
        "x_test.shape,y_test.shape"
      ],
      "execution_count": 0,
      "outputs": [
        {
          "output_type": "execute_result",
          "data": {
            "text/plain": [
              "((3589, 48, 48, 1), (3589, 7))"
            ]
          },
          "metadata": {
            "tags": []
          },
          "execution_count": 29
        }
      ]
    },
    {
      "cell_type": "code",
      "metadata": {
        "id": "kvetT0rvi85N",
        "colab_type": "code",
        "outputId": "5a381f81-2033-47f3-c6ec-2862906769cb",
        "colab": {
          "base_uri": "https://localhost:8080/",
          "height": 1000
        }
      },
      "source": [
        "history = model.fit(x_train,y_train,batch_size=32,epochs=30,validation_split=0.2,shuffle=True )\n",
        "# model.save('/content/gdrive/My Drive/fer2013_data/emotion_model.hd5')"
      ],
      "execution_count": 0,
      "outputs": [
        {
          "output_type": "stream",
          "text": [
            "Train on 22967 samples, validate on 5742 samples\n",
            "Epoch 1/30\n",
            "22967/22967 [==============================] - 885s 39ms/sample - loss: 1.8874 - accuracy: 0.2288 - val_loss: 1.8219 - val_accuracy: 0.2517\n",
            "Epoch 2/30\n",
            "22967/22967 [==============================] - 881s 38ms/sample - loss: 1.7612 - accuracy: 0.2760 - val_loss: 1.6905 - val_accuracy: 0.3114\n",
            "Epoch 3/30\n",
            "22967/22967 [==============================] - 877s 38ms/sample - loss: 1.6269 - accuracy: 0.3431 - val_loss: 1.4935 - val_accuracy: 0.3922\n",
            "Epoch 4/30\n",
            "22967/22967 [==============================] - 873s 38ms/sample - loss: 1.5048 - accuracy: 0.4060 - val_loss: 1.3767 - val_accuracy: 0.4591\n",
            "Epoch 5/30\n",
            "22967/22967 [==============================] - 872s 38ms/sample - loss: 1.4355 - accuracy: 0.4388 - val_loss: 1.3927 - val_accuracy: 0.4589\n",
            "Epoch 6/30\n",
            "22967/22967 [==============================] - 877s 38ms/sample - loss: 1.3822 - accuracy: 0.4639 - val_loss: 1.3073 - val_accuracy: 0.4981\n",
            "Epoch 7/30\n",
            "22967/22967 [==============================] - 873s 38ms/sample - loss: 1.3436 - accuracy: 0.4842 - val_loss: 1.2564 - val_accuracy: 0.5324\n",
            "Epoch 8/30\n",
            "22967/22967 [==============================] - 878s 38ms/sample - loss: 1.3098 - accuracy: 0.5028 - val_loss: 1.2395 - val_accuracy: 0.5399\n",
            "Epoch 9/30\n",
            "22967/22967 [==============================] - 873s 38ms/sample - loss: 1.2817 - accuracy: 0.5103 - val_loss: 1.2512 - val_accuracy: 0.5319\n",
            "Epoch 10/30\n",
            "22967/22967 [==============================] - 878s 38ms/sample - loss: 1.2665 - accuracy: 0.5178 - val_loss: 1.2406 - val_accuracy: 0.5430\n",
            "Epoch 11/30\n",
            "22967/22967 [==============================] - 874s 38ms/sample - loss: 1.2398 - accuracy: 0.5313 - val_loss: 1.1624 - val_accuracy: 0.5693\n",
            "Epoch 12/30\n",
            "22967/22967 [==============================] - 879s 38ms/sample - loss: 1.2099 - accuracy: 0.5440 - val_loss: 1.1745 - val_accuracy: 0.5650\n",
            "Epoch 13/30\n",
            "22967/22967 [==============================] - 877s 38ms/sample - loss: 1.1916 - accuracy: 0.5510 - val_loss: 1.1395 - val_accuracy: 0.5825\n",
            "Epoch 14/30\n",
            "22967/22967 [==============================] - 881s 38ms/sample - loss: 1.1875 - accuracy: 0.5569 - val_loss: 1.1640 - val_accuracy: 0.5697\n",
            "Epoch 15/30\n",
            "22967/22967 [==============================] - 876s 38ms/sample - loss: 1.1677 - accuracy: 0.5629 - val_loss: 1.1134 - val_accuracy: 0.5913\n",
            "Epoch 16/30\n",
            "22967/22967 [==============================] - 880s 38ms/sample - loss: 1.1493 - accuracy: 0.5711 - val_loss: 1.1262 - val_accuracy: 0.5925\n",
            "Epoch 17/30\n",
            "22967/22967 [==============================] - 880s 38ms/sample - loss: 1.1276 - accuracy: 0.5821 - val_loss: 1.1293 - val_accuracy: 0.5921\n",
            "Epoch 18/30\n",
            "22967/22967 [==============================] - 885s 39ms/sample - loss: 1.1202 - accuracy: 0.5845 - val_loss: 1.0844 - val_accuracy: 0.6036\n",
            "Epoch 19/30\n",
            "22967/22967 [==============================] - 874s 38ms/sample - loss: 1.0982 - accuracy: 0.5945 - val_loss: 1.1053 - val_accuracy: 0.6026\n",
            "Epoch 20/30\n",
            "22967/22967 [==============================] - 877s 38ms/sample - loss: 1.0871 - accuracy: 0.5955 - val_loss: 1.1441 - val_accuracy: 0.5867\n",
            "Epoch 21/30\n",
            "22967/22967 [==============================] - 875s 38ms/sample - loss: 1.0780 - accuracy: 0.5995 - val_loss: 1.1141 - val_accuracy: 0.5967\n",
            "Epoch 22/30\n",
            "22967/22967 [==============================] - 890s 39ms/sample - loss: 1.0638 - accuracy: 0.6058 - val_loss: 1.0929 - val_accuracy: 0.6054\n",
            "Epoch 23/30\n",
            "22967/22967 [==============================] - 882s 38ms/sample - loss: 1.0466 - accuracy: 0.6122 - val_loss: 1.0766 - val_accuracy: 0.6111\n",
            "Epoch 24/30\n",
            "22967/22967 [==============================] - 881s 38ms/sample - loss: 1.0329 - accuracy: 0.6184 - val_loss: 1.1115 - val_accuracy: 0.6017\n",
            "Epoch 25/30\n",
            "22967/22967 [==============================] - 884s 38ms/sample - loss: 1.0352 - accuracy: 0.6223 - val_loss: 1.0689 - val_accuracy: 0.6186\n",
            "Epoch 26/30\n",
            "22967/22967 [==============================] - 888s 39ms/sample - loss: 1.0128 - accuracy: 0.6238 - val_loss: 1.0857 - val_accuracy: 0.6028\n",
            "Epoch 27/30\n",
            "22967/22967 [==============================] - 886s 39ms/sample - loss: 1.0122 - accuracy: 0.6278 - val_loss: 1.0683 - val_accuracy: 0.6127\n",
            "Epoch 28/30\n",
            "22967/22967 [==============================] - 888s 39ms/sample - loss: 1.0061 - accuracy: 0.6302 - val_loss: 1.0516 - val_accuracy: 0.6195\n",
            "Epoch 29/30\n",
            "22967/22967 [==============================] - 874s 38ms/sample - loss: 0.9964 - accuracy: 0.6367 - val_loss: 1.0887 - val_accuracy: 0.6052\n",
            "Epoch 30/30\n",
            "22967/22967 [==============================] - 879s 38ms/sample - loss: 0.9789 - accuracy: 0.6416 - val_loss: 1.0820 - val_accuracy: 0.6165\n"
          ],
          "name": "stdout"
        }
      ]
    },
    {
      "cell_type": "code",
      "metadata": {
        "id": "LoF5205BCvjY",
        "colab_type": "code",
        "colab": {}
      },
      "source": [
        "model.save('facial_recognition.h5')"
      ],
      "execution_count": 0,
      "outputs": []
    },
    {
      "cell_type": "code",
      "metadata": {
        "id": "rNL8lGyIj4v2",
        "colab_type": "code",
        "colab": {}
      },
      "source": [
        "def plot_curve(history):\n",
        "  epoch_range =range(1,31)\n",
        "  plt.plot(epoch_range, history.history['accuracy'])\n",
        "  plt.plot(epoch_range, history.history['val_accuracy'])\n",
        "  plt.title(\"Model_Accuracy\")\n",
        "  \n",
        "  plt.ylabel(\"accuracy\")\n",
        "  plt.xlabel(\"epoch\")\n",
        "  plt.legend(['train','val'], loc = \"upper left\")\n",
        "  plt.show()\n",
        "\n",
        "  plt.plot(epoch_range, history.history['loss'])\n",
        "  plt.plot(epoch_range, history.history['val_loss'])\n",
        "  plt.title(\"Model_loss\")\n",
        "  \n",
        "  plt.ylabel(\"loss\")\n",
        "  plt.xlabel(\"epoch\")\n",
        "  plt.legend(['train','val'], loc = \"upper right\")\n",
        "  plt.show()"
      ],
      "execution_count": 0,
      "outputs": []
    },
    {
      "cell_type": "code",
      "metadata": {
        "id": "u653C6dPBk-S",
        "colab_type": "code",
        "outputId": "fc4243d6-73aa-4081-a4b9-e1fad45dcb03",
        "colab": {
          "base_uri": "https://localhost:8080/",
          "height": 573
        }
      },
      "source": [
        "plot_curve(history)"
      ],
      "execution_count": 0,
      "outputs": [
        {
          "output_type": "display_data",
          "data": {
            "image/png": "[encoded data removed]",
            "text/plain": [
              "<Figure size 432x288 with 1 Axes>"
            ]
          },
          "metadata": {
            "tags": []
          }
        },
        {
          "output_type": "display_data",
          "data": {
            "image/png": "[encoded data removed]",
            "text/plain": [
              "<Figure size 432x288 with 1 Axes>"
            ]
          },
          "metadata": {
            "tags": []
          }
        }
      ]
    },
    {
      "cell_type": "code",
      "metadata": {
        "id": "MPJ8KSJYEMWL",
        "colab_type": "code",
        "colab": {}
      },
      "source": [
        ""
      ],
      "execution_count": 0,
      "outputs": []
    }
  ]
}